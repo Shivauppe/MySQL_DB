{
 "cells": [
  {
   "cell_type": "code",
   "execution_count": 4,
   "id": "ead0ed74-ca33-4627-9c09-7b84bd64353c",
   "metadata": {},
   "outputs": [
    {
     "data": {
      "text/plain": [
       "'-- Sakila Sample Database Schema\\n-- Version 1.0\\n\\n-- Copyright (c) 2006, 2015, Oracle and/or its affiliates. \\n-- All rights reserved.\\n\\n-- Redistribution and use in source and binary forms, with or without modification, are permitted provided that the following conditions are met:\\n\\n--  * Redistributions of source code must retain the above copyright notice, this list of conditions and the following disclaimer.\\n--  * Redistributions in binary form must reproduce the above copyright notice, this list of conditions and the following disclaimer in the documentation and/or other materials provided with the distribution.\\n--  * Neither the name of Oracle nor the names of its contributors may be used to endorse or promote products derived from this software without specific prior written permission.\\n\\n-- THIS SOFTWARE IS PROVIDED BY THE COPYRIGHT HOLDERS AND CONTRIBUTORS \"AS IS\" AND ANY EXPRESS OR IMPLIED WARRANTIES, INCLUDING, BUT NOT LIMITED TO, THE IMPLIED WARRANTIES OF MERCHANTABILITY AND FIT'"
      ]
     },
     "execution_count": 4,
     "metadata": {},
     "output_type": "execute_result"
    }
   ],
   "source": [
    "# Load and read the SQL file to extract table definitions\n",
    "file_path = \"/Users/sangameshwaruppe/custom_app/Mavenmovies (1).sql\"\n",
    "\n",
    "# Read the SQL file content\n",
    "with open(file_path, \"r\", encoding=\"utf-8\") as file:\n",
    "    sql_content = file.read()\n",
    "\n",
    "# Display a snippet of the content for analysis\n",
    "sql_content[:1000]  # Showing first 1000 characters to check structure\n"
   ]
  },
  {
   "cell_type": "code",
   "execution_count": 5,
   "id": "cc7556f9-be4e-42aa-aa2e-275fd6c336c2",
   "metadata": {},
   "outputs": [
    {
     "data": {
      "text/plain": [
       "19"
      ]
     },
     "execution_count": 5,
     "metadata": {},
     "output_type": "execute_result"
    }
   ],
   "source": [
    "import re\n",
    "\n",
    "# Extract CREATE TABLE statements from the SQL file\n",
    "create_table_statements = re.findall(r'CREATE TABLE.*?;', sql_content, re.DOTALL)\n",
    "\n",
    "# Display the number of tables found\n",
    "len(create_table_statements)\n"
   ]
  },
  {
   "cell_type": "code",
   "execution_count": 6,
   "id": "46bd892f-fbfc-4947-b4d8-bb93ae3deb1a",
   "metadata": {},
   "outputs": [
    {
     "data": {
      "text/plain": [
       "({}, {})"
      ]
     },
     "execution_count": 6,
     "metadata": {},
     "output_type": "execute_result"
    }
   ],
   "source": [
    "# Extract primary keys and foreign keys from the CREATE TABLE statements\n",
    "\n",
    "pk_dict = {}  # Dictionary to store table names and their primary keys\n",
    "fk_dict = {}  # Dictionary to store table names and their foreign keys\n",
    "\n",
    "for table_stmt in create_table_statements:\n",
    "    # Extract table name\n",
    "    table_name_match = re.search(r'CREATE TABLE `(.*?)`', table_stmt)\n",
    "    if table_name_match:\n",
    "        table_name = table_name_match.group(1)\n",
    "        \n",
    "        # Extract primary key\n",
    "        pk_match = re.search(r'PRIMARY KEY \\((.*?)\\)', table_stmt)\n",
    "        if pk_match:\n",
    "            pk_columns = pk_match.group(1).replace('`', '').split(', ')\n",
    "            pk_dict[table_name] = pk_columns\n",
    "        \n",
    "        # Extract foreign keys\n",
    "        fk_matches = re.findall(r'FOREIGN KEY \\((.*?)\\) REFERENCES `(.*?)` \\((.*?)\\)', table_stmt)\n",
    "        if fk_matches:\n",
    "            fk_dict[table_name] = [(fk[0].replace('`', ''), fk[1], fk[2].replace('`', '')) for fk in fk_matches]\n",
    "\n",
    "# Display extracted PKs and FKs\n",
    "pk_dict, fk_dict\n"
   ]
  },
  {
   "cell_type": "code",
   "execution_count": 7,
   "id": "b12c12e3-4c45-4f10-a6d2-e3575e6f6c2e",
   "metadata": {},
   "outputs": [
    {
     "data": {
      "text/plain": [
       "({'actor': ['actor_id'],\n",
       "  'actor_award': ['actor_award_id'],\n",
       "  'address': ['address_id'],\n",
       "  'advisor': ['advisor_id'],\n",
       "  'category': ['category_id'],\n",
       "  'city': ['city_id'],\n",
       "  'country': ['country_id'],\n",
       "  'customer': ['customer_id'],\n",
       "  'film': ['film_id'],\n",
       "  'film_actor': ['actor_id', 'film_id'],\n",
       "  'film_category': ['film_id', 'category_id'],\n",
       "  'film_text': ['film_id'],\n",
       "  'inventory': ['inventory_id'],\n",
       "  'investor': ['investor_id'],\n",
       "  'language': ['language_id'],\n",
       "  'payment': ['payment_id'],\n",
       "  'rental': ['rental_id'],\n",
       "  'staff': ['staff_id'],\n",
       "  'store': ['store_id']},\n",
       " {'address': [('city_id', 'city', 'city_id')],\n",
       "  'city': [('country_id', 'country', 'country_id')],\n",
       "  'customer': [('address_id', 'address', 'address_id'),\n",
       "   ('store_id', 'store', 'store_id')],\n",
       "  'film': [('language_id', 'language', 'language_id'),\n",
       "   ('original_language_id', 'language', 'language_id')],\n",
       "  'film_actor': [('actor_id', 'actor', 'actor_id'),\n",
       "   ('film_id', 'film', 'film_id')],\n",
       "  'film_category': [('film_id', 'film', 'film_id'),\n",
       "   ('category_id', 'category', 'category_id')],\n",
       "  'inventory': [('store_id', 'store', 'store_id'),\n",
       "   ('film_id', 'film', 'film_id')],\n",
       "  'payment': [('rental_id', 'rental', 'rental_id'),\n",
       "   ('customer_id', 'customer', 'customer_id'),\n",
       "   ('staff_id', 'staff', 'staff_id')],\n",
       "  'rental': [('staff_id', 'staff', 'staff_id'),\n",
       "   ('inventory_id', 'inventory', 'inventory_id'),\n",
       "   ('customer_id', 'customer', 'customer_id')],\n",
       "  'staff': [('store_id', 'store', 'store_id'),\n",
       "   ('address_id', 'address', 'address_id')],\n",
       "  'store': [('manager_staff_id', 'staff', 'staff_id'),\n",
       "   ('address_id', 'address', 'address_id')]})"
      ]
     },
     "execution_count": 7,
     "metadata": {},
     "output_type": "execute_result"
    }
   ],
   "source": [
    "# Refined extraction approach for PKs and FKs\n",
    "pk_dict = {}\n",
    "fk_dict = {}\n",
    "\n",
    "for table_stmt in create_table_statements:\n",
    "    # Extract table name\n",
    "    table_name_match = re.search(r'CREATE TABLE\\s+`?(\\w+)`?', table_stmt, re.IGNORECASE)\n",
    "    if table_name_match:\n",
    "        table_name = table_name_match.group(1)\n",
    "\n",
    "        # Extract primary key\n",
    "        pk_match = re.search(r'PRIMARY KEY\\s*\\(([^)]+)\\)', table_stmt, re.IGNORECASE)\n",
    "        if pk_match:\n",
    "            pk_columns = [col.strip('` ') for col in pk_match.group(1).split(',')]\n",
    "            pk_dict[table_name] = pk_columns\n",
    "\n",
    "        # Extract foreign keys\n",
    "        fk_matches = re.findall(r'FOREIGN KEY\\s*\\(([^)]+)\\)\\s*REFERENCES\\s*`?(\\w+)`?\\s*\\(([^)]+)\\)', table_stmt, re.IGNORECASE)\n",
    "        if fk_matches:\n",
    "            fk_dict[table_name] = [(fk[0].strip('` '), fk[1], fk[2].strip('` ')) for fk in fk_matches]\n",
    "\n",
    "# Display extracted PKs and FKs again\n",
    "pk_dict, fk_dict\n"
   ]
  },
  {
   "cell_type": "raw",
   "id": "7df41924-6b9e-459e-ac13-b86476441d2a",
   "metadata": {},
   "source": [
    "Primary Keys (PKs) in Maven Movies DB\n",
    "Primary keys uniquely identify each record in a table. Here are the tables with their respective primary keys:\n",
    "\n",
    "actor → actor_id\n",
    "actor_award → actor_award_id\n",
    "address → address_id\n",
    "advisor → advisor_id\n",
    "category → category_id\n",
    "city → city_id\n",
    "country → country_id\n",
    "customer → customer_id\n",
    "film → film_id\n",
    "film_actor → (actor_id, film_id) (Composite PK)\n",
    "film_category → (film_id, category_id) (Composite PK)\n",
    "film_text → film_id\n",
    "inventory → inventory_id\n",
    "investor → investor_id\n",
    "language → language_id\n",
    "payment → payment_id\n",
    "rental → rental_id\n",
    "staff → staff_id\n",
    "store → store_id\n",
    "\n",
    "Foreign Keys (FKs) in Maven Movies DB\n",
    "Foreign keys establish relationships between tables. Here are the tables with their foreign key dependencies:\n",
    "\n",
    "address → city_id (References city.city_id)\n",
    "city → country_id (References country.country_id)\n",
    "customer → address_id (References address.address_id)\n",
    "customer → store_id (References store.store_id)\n",
    "film → language_id (References language.language_id)\n",
    "film → original_language_id (References language.language_id)\n",
    "film_actor → actor_id (References actor.actor_id)\n",
    "film_actor → film_id (References film.film_id)\n",
    "film_category → film_id (References film.film_id)\n",
    "film_category → category_id (References category.category_id)\n",
    "inventory → store_id (References store.store_id)\n",
    "inventory → film_id (References film.film_id)\n",
    "payment → rental_id (References rental.rental_id)\n",
    "payment → customer_id (References customer.customer_id)\n",
    "payment → staff_id (References staff.staff_id)\n",
    "rental → staff_id (References staff.staff_id)\n",
    "rental → inventory_id (References inventory.inventory_id)\n",
    "rental → customer_id (References customer.customer_id)\n",
    "staff → store_id (References store.store_id)\n",
    "staff → address_id (References address.address_id)\n",
    "store → manager_staff_id (References staff.staff_id)\n",
    "store → address_id (References address.address_id)"
   ]
  },
  {
   "cell_type": "raw",
   "id": "ccc82248-d048-48e7-a31d-a558f817f878",
   "metadata": {},
   "source": [
    "Differences Between Primary Key and Foreign Key\n",
    "Feature\tPrimary Key (PK)\tForeign Key (FK)\n",
    "Purpose\tUniquely identifies each record in a table\tCreates a relationship between two tables\n",
    "Uniqueness\tMust have unique values for every row\tCan have duplicate values, as it can appear in multiple rows\n",
    "Nullability\tCannot be NULL\tCan be NULL, meaning the relationship is optional\n",
    "Table Location\tDefined in the same table where it resides\tReferences the primary key in a different table\n",
    "Enforcement\tEnforces entity integrity (each row must be unique)\tEnforces referential integrity (ensures valid references to another table)"
   ]
  },
  {
   "cell_type": "code",
   "execution_count": null,
   "id": "bc6b8411-6b44-4ff1-b721-98d2f066cb8b",
   "metadata": {},
   "outputs": [],
   "source": []
  },
  {
   "cell_type": "code",
   "execution_count": null,
   "id": "b0c6f8fa-bfeb-4bd3-9dfc-a8f59a374e8d",
   "metadata": {},
   "outputs": [],
   "source": []
  }
 ],
 "metadata": {
  "kernelspec": {
   "display_name": "Python 3 (ipykernel)",
   "language": "python",
   "name": "python3"
  },
  "language_info": {
   "codemirror_mode": {
    "name": "ipython",
    "version": 3
   },
   "file_extension": ".py",
   "mimetype": "text/x-python",
   "name": "python",
   "nbconvert_exporter": "python",
   "pygments_lexer": "ipython3",
   "version": "3.13.1"
  }
 },
 "nbformat": 4,
 "nbformat_minor": 5
}
